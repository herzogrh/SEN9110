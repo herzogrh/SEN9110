{
 "metadata": {
  "language_info": {
   "codemirror_mode": {
    "name": "ipython",
    "version": 3
   },
   "file_extension": ".py",
   "mimetype": "text/x-python",
   "name": "python",
   "nbconvert_exporter": "python",
   "pygments_lexer": "ipython3",
   "version": "3.7.7-final"
  },
  "orig_nbformat": 2,
  "kernelspec": {
   "name": "python3",
   "display_name": "Python 3"
  }
 },
 "nbformat": 4,
 "nbformat_minor": 2,
 "cells": [
  {
   "source": [
    "# Assignment 1\n",
    "## Ferry Model | Group 14\n",
    "### Imports"
   ],
   "cell_type": "markdown",
   "metadata": {}
  },
  {
   "cell_type": "code",
   "execution_count": 53,
   "metadata": {},
   "outputs": [],
   "source": [
    "import salabim as sim, numpy as np, pandas as pd\n",
    "import time, sys, random\n"
   ]
  },
  {
   "source": [
    "## Time Data"
   ],
   "cell_type": "markdown",
   "metadata": {}
  },
  {
   "cell_type": "code",
   "execution_count": 25,
   "metadata": {
    "tags": []
   },
   "outputs": [],
   "source": [
    "CAR_NUMBERS = pd.read_csv(\"TimeTable.csv\", sep=\";\")"
   ]
  },
  {
   "source": [
    "## Variables"
   ],
   "cell_type": "markdown",
   "metadata": {}
  },
  {
   "cell_type": "code",
   "execution_count": 26,
   "metadata": {},
   "outputs": [],
   "source": [
    "SAILING_TIME = sim.Triangular(10,18,13)\n",
    "NUMBER_OF_CARS = sim.Triangular(70,80,75)\n",
    "PAYMENT_TIME = sim.Triangular(1,4,2)\n",
    "SIM_TIME = 60*24 # Time in minutes\n",
    "LOADING_TIME = 1/6 # 10 seconds per car\n",
    "UNLOADING_TIME = 5/60 # 5 seconds per time\n",
    "WAITING_TIME_PREPAID = 0.5 # minutes\n",
    "PERCENTAGE_PREPAID = 0.2 \n",
    "\n",
    "REPLICATIONS = 10 # Number of experiment replications"
   ]
  },
  {
   "source": [
    "## Components\n",
    "### Class Car"
   ],
   "cell_type": "markdown",
   "metadata": {}
  },
  {
   "cell_type": "code",
   "execution_count": 69,
   "metadata": {},
   "outputs": [],
   "source": [
    "class Car(sim.Component):\n",
    "    def setup(self, cartype, paid, location):\n",
    "        self.cartype = cartype # either tourist or employee\n",
    "        self.paid = paid # true for prepaid, false for not prepaid\n",
    "        self.location = location # either mainland or island\n",
    "\n",
    "    def process(self):  \n",
    "        # Go to the assigned booth and line depending on the cartype, prepaid and locations\n",
    "        ## Employee type\n",
    "        if self.cartype == \"employee\":\n",
    "            if self.location == \"mainland\":\n",
    "                self.enter(mainland_line1)\n",
    "            else: \n",
    "                self.enter(island_line1)\n",
    "        ## Tourists\n",
    "        else: \n",
    "            # In case the tourist has prepaid \n",
    "            if self.paid:\n",
    "                if self.location == \"mainland\":\n",
    "                    self.enter(mainland_line2)\n",
    "                else: \n",
    "                    self.enter(island_line2)\n",
    "            # In case the tourist still has to pay\n",
    "            else: \n",
    "                if self.location == \"mainland\":\n",
    "                    self.enter(mainland_line3)\n",
    "                else: \n",
    "                    self.enter(island_line3)\n",
    "            \n",
    "        # Passivate the component\n",
    "        yield self.passivate()"
   ]
  },
  {
   "source": [
    "### Car Generator"
   ],
   "cell_type": "markdown",
   "metadata": {}
  },
  {
   "cell_type": "code",
   "execution_count": 70,
   "metadata": {},
   "outputs": [],
   "source": [
    "class CarGenerator(sim.Component):\n",
    "    def setup(self, location, cartype):\n",
    "        self.cartype = cartype # either tourist or employee\n",
    "        self.location = location # either mainland or island\n",
    "\n",
    "    def process(self):\n",
    "        while True:\n",
    "            #Get current time\n",
    "            CurrentCarNumbers = CAR_NUMBERS[CAR_NUMBERS[\"time\"]<= (env.now()/60)].tail(1)\n",
    "\n",
    "            # Generate a car\n",
    "            Car(cartype = self.cartype, paid = (random.random() < 0.2), location= self.location)\n",
    "\n",
    "            # Wait for the correct amount of time until creating the next car\n",
    "            ## Get the number of cars\n",
    "            number_cars = int(CurrentCarNumbers[str(self.cartype) + \"_\" + str(self.location)])\n",
    "\n",
    "            ## Calculate the time span the cars arrive in \n",
    "            time_span = int(CAR_NUMBERS[\"time\"].iloc[CurrentCarNumbers.index + 1]) - int(CAR_NUMBERS[\"time\"].iloc[CurrentCarNumbers.index])\n",
    "\n",
    "            ## Check if number of cars is greater than zero, then wait the correct amount of time, otherwise wait for the time interval\n",
    "            if number_cars > 0:\n",
    "                # Interarrival times are based on an exponential equation\n",
    "                yield self.hold(sim.Exponential(60*time_span / number_cars))\n",
    "            else:\n",
    "                yield self.hold(60*time_span)\n",
    "\n"
   ]
  },
  {
   "source": [
    "### Ferry"
   ],
   "cell_type": "markdown",
   "metadata": {}
  },
  {
   "cell_type": "code",
   "execution_count": 71,
   "metadata": {},
   "outputs": [],
   "source": [
    "\n",
    "\n",
    "class Ferry(sim.Component):\n",
    "    def setup(self, capacity, carsonferry, ferryrides, location):\n",
    "        self.capacity = capacity # indicates how much space there is on the ferry\n",
    "        self.carsonferry = carsonferry # indicates how many cars there are currently on the ferry \n",
    "        self.ferryrides = ferryrides # counts the amount of ferryrides done\n",
    "        self.location = location # the location of the ferry (either mainland or island)\n",
    "\n",
    "\n",
    "    def process(self):\n",
    "        while True:\n",
    "            # Wait until both the departure time is reached and the ferry is loaded\n",
    "            yield self.wait(departuretime, ferryloaded, all=True)\n",
    "\n",
    "            # Add one more ride to the ferry ride attribute\n",
    "            self.ferryrides += 1\n",
    "\n",
    "            # Cruise\n",
    "            yield self.hold(SAILING_TIME.sample())\n",
    "\n",
    "            # Change the location of the ferry\n",
    "            if self.location == \"mainland\":\n",
    "                self.location = \"island\"\n",
    "            else:\n",
    "                self.location = \"mainland\"\n",
    "\n",
    "            # Unload\n",
    "            for i in range(self.carsonferry):\n",
    "                yield self.hold(sim.Exponential())\n",
    "\n",
    "\n",
    "\n",
    "    def load(self):  \n",
    "        yield self.hold(5)\n",
    "\n",
    "\n",
    "\n",
    "class FerryOperator(sim.Component):\n",
    "    def process(self):\n",
    "\n",
    "        \n",
    "        while True:\n",
    "            # Load the ferry\n",
    "            CanadianFerry.activate(process='load')\n",
    "\n"
   ]
  },
  {
   "source": [
    "## States\n"
   ],
   "cell_type": "markdown",
   "metadata": {}
  },
  {
   "cell_type": "code",
   "execution_count": 75,
   "metadata": {
    "tags": []
   },
   "outputs": [
    {
     "output_type": "stream",
     "name": "stdout",
     "text": "line numbers prefixed by E refer to  <ipython-input-75-679021ec5836>\n   E1                                  departuretime create                 value= False\n   E2                                  ferryloaded create                   value= False\n"
    }
   ],
   "source": [
    "departuretime = sim.State('departuretime', value=False)\n",
    "ferryloaded = sim.State('ferryloaded', value=False)\n"
   ]
  },
  {
   "source": [
    "## Queues"
   ],
   "cell_type": "markdown",
   "metadata": {}
  },
  {
   "cell_type": "code",
   "execution_count": 72,
   "metadata": {
    "tags": []
   },
   "outputs": [
    {
     "output_type": "stream",
     "name": "stdout",
     "text": "line numbers prefixed by D refer to  <ipython-input-72-8b90d25e2ae8>\n   D1                                  mainland_line1 create                \n   D1                                  mainland_line2 create                \n   D1                                  mainland_line3 create                \n   D2                                  island_line1 create                  \n   D2                                  island_line2 create                  \n   D2                                  island_line3 create                  \n"
    }
   ],
   "source": [
    "mainland_line1, mainland_line2, mainland_line3 = sim.Queue('mainland_line1'), sim.Queue('mainland_line2'), sim.Queue('mainland_line3')\n",
    "island_line1, island_line2, island_line3 = sim.Queue('island_line1'), sim.Queue('island_line2'), sim.Queue('island_line3')\n"
   ]
  },
  {
   "source": [
    "### Creating and running the environment"
   ],
   "cell_type": "markdown",
   "metadata": {}
  },
  {
   "cell_type": "code",
   "execution_count": 73,
   "metadata": {
    "tags": []
   },
   "outputs": [
    {
     "output_type": "stream",
     "name": "stdout",
     "text": "line#        time current component    action                               information\n------ ---------- -------------------- -----------------------------------  ------------------------------------------------\n                                       line numbers refers to               <ipython-input-73-40dbdcccee56>\n    2                                  default environment initialize       \n    2                                  main create                          \n    2       0.000 main                 current                              \n    6                                  ferry.0 create data component        \n    9                                  ferryoperator.0 create               \n                                       line numbers prefixed by A refer to  <ipython-input-71-cb7dbd2d3b25>\n    9                                  ferryoperator.0 activate +390.000    scheduled for    390.000   A13  process=process\n   12                                  cargenerator.0 create                \n                                       line numbers prefixed by B refer to  <ipython-input-70-8c0a49d4c80d>\n   12                                  cargenerator.0 activate              scheduled for      0.000 @   B6  process=process\n   13                                  cargenerator.1 create                \n   13                                  cargenerator.1 activate              scheduled for      0.000 @   B6  process=process\n   14                                  cargenerator.2 create                \n   14                                  cargenerator.2 activate              scheduled for      0.000 @   B6  process=process\n   15                                  cargenerator.3 create                \n   15                                  cargenerator.3 activate              scheduled for      0.000 @   B6  process=process\n   17                                  main run +1440.000                   scheduled for   1440.000 @   17+\n   B6       0.000 cargenerator.0       current                              \n  B12                                  car.0 create                         \n                                       line numbers prefixed by C refer to  <ipython-input-69-da4f720be0f6>\n  B12                                  car.0 activate                       scheduled for      0.000    C7  process=process\n  B26                                  cargenerator.0 hold +360.000         scheduled for    360.000 @  B26+\n   B6       0.000 cargenerator.1       current                              \n  B12                                  car.1 create                         \n  B12                                  car.1 activate                       scheduled for      0.000    C7  process=process\n  B26                                  cargenerator.1 hold +360.000         scheduled for    360.000 @  B26+\n   B6       0.000 cargenerator.2       current                              \n  B12                                  car.2 create                         \n  B12                                  car.2 activate                       scheduled for      0.000    C7  process=process\n  B26                                  cargenerator.2 hold +360.000         scheduled for    360.000 @  B26+\n   B6       0.000 cargenerator.3       current                              \n  B12                                  car.3 create                         \n  B12                                  car.3 activate                       scheduled for      0.000    C7  process=process\n  B26                                  cargenerator.3 hold +360.000         scheduled for    360.000 @  B26+\n   C7       0.000 car.0                current                              \n                                       line numbers prefixed by E refer to  <ipython-input-69-da4f720be0f6>\n  E14                                  car.0                                enter island_line1\n   17                                  car.0 ended                          \n   C7       0.000 car.1                current                              \n  E12                                  car.1                                enter mainland_line1\n   17                                  car.1 ended                          \n   C7       0.000 car.2                current                              \n  E28                                  car.2                                enter island_line3\n   17                                  car.2 ended                          \n   C7       0.000 car.3                current                              \n  E26                                  car.3                                enter mainland_line3\n   17                                  car.3 ended                          \n  B26+    360.000 cargenerator.0       current                              \n  B12                                  car.4 create                         \n  B12                                  car.4 activate                       scheduled for    360.000    C7  process=process\n  B26                                  cargenerator.0 hold +180.000         scheduled for    540.000 @  B26+\n  B26+    360.000 cargenerator.1       current                              \n  B12                                  car.5 create                         \n  B12                                  car.5 activate                       scheduled for    360.000    C7  process=process\n  B26                                  cargenerator.1 hold +180.000         scheduled for    540.000 @  B26+\n  B26+    360.000 cargenerator.2       current                              \n  B12                                  car.6 create                         \n  B12                                  car.6 activate                       scheduled for    360.000    C7  process=process\n  B26                                  cargenerator.2 hold +180.000         scheduled for    540.000 @  B26+\n  B26+    360.000 cargenerator.3       current                              \n  B12                                  car.7 create                         \n  B12                                  car.7 activate                       scheduled for    360.000    C7  process=process\n  B26                                  cargenerator.3 hold +180.000         scheduled for    540.000 @  B26+\n   C7     360.000 car.4                current                              \n  E14                                  car.4                                enter island_line1\n   17                                  car.4 ended                          \n   C7     360.000 car.5                current                              \n  E12                                  car.5                                enter mainland_line1\n   17                                  car.5 ended                          \n   C7     360.000 car.6                current                              \n  E28                                  car.6                                enter island_line3\n   17                                  car.6 ended                          \n   C7     360.000 car.7                current                              \n  E26                                  car.7                                enter mainland_line3\n   17                                  car.7 ended                          \n  A13     390.000 ferryoperator.0      current                              \n  A18                                  ferry.0 activate                     scheduled for    390.000 @   A9  process=load\n  A18                                  ferry.0 activate                     scheduled for    390.000 @   A9  process=load\n  A18                                  ferry.0 activate                     scheduled for    390.000 @   A9  process=load\n  A18                                  ferry.0 activate                     scheduled for    390.000 @   A9  process=load\n  A18                                  ferry.0 activate                     scheduled for    390.000 @   A9  process=load\n  A18                                  ferry.0 activate                     scheduled for    390.000 @   A9  process=load\n  A18                                  ferry.0 activate                     scheduled for    390.000 @   A9  process=load\n  A18                                  ferry.0 activate                     scheduled for    390.000 @   A9  process=load\n  A18                                  ferry.0 activate                     scheduled for    390.000 @   A9  process=load\n  A18                                  ferry.0 activate                     scheduled for    390.000 @   A9  process=load\n  A18                                  ferry.0 activate                     scheduled for    390.000 @   A9  process=load\n  A18                                  ferry.0 activate                     scheduled for    390.000 @   A9  process=load\n  A18                                  ferry.0 activate                     scheduled for    390.000 @   A9  process=load\n  A18                                  ferry.0 activate                     scheduled for    390.000 @   A9  process=load\n  A18                                  ferry.0 activate                     scheduled for    390.000 @   A9  process=load\n  A18                                  ferry.0 activate                     scheduled for    390.000 @   A9  process=load\n  A18                                  ferry.0 activate                     scheduled for    390.000 @   A9  process=load\n  A18                                  ferry.0 activate                     scheduled for    390.000 @   A9  process=load\n  A18                                  ferry.0 activate                     scheduled for    390.000 @   A9  process=load\n  A18                                  ferry.0 activate                     scheduled for    390.000 @   A9  process=load\n  A18                                  ferry.0 activate                     scheduled for    390.000 @   A9  process=load\n  A18                                  ferry.0 activate                     scheduled for    390.000 @   A9  process=load\n  A18                                  ferry.0 activate                     scheduled for    390.000 @   A9  process=load\n  A18                                  ferry.0 activate                     scheduled for    390.000 @   A9  process=load\n  A18                                  ferry.0 activate                     scheduled for    390.000 @   A9  process=load\n  A18                                  ferry.0 activate                     scheduled for    390.000 @   A9  process=load\n  A18                                  ferry.0 activate                     scheduled for    390.000 @   A9  process=load\n  A18                                  ferry.0 activate                     scheduled for    390.000 @   A9  process=load\n  A18                                  ferry.0 activate                     scheduled for    390.000 @   A9  process=load\n  A18                                  ferry.0 activate                     scheduled for    390.000 @   A9  process=load\n  A18                                  ferry.0 activate                     scheduled for    390.000 @   A9  process=load\n  A18                                  ferry.0 activate                     scheduled for    390.000 @   A9  process=load\n  A18                                  ferry.0 activate                     scheduled for    390.000 @   A9  process=load\n  A18                                  ferry.0 activate                     scheduled for    390.000 @   A9  process=load\n  A18                                  ferry.0 activate                     scheduled for    390.000 @   A9  process=load\n  A18                                  ferry.0 activate                     scheduled for    390.000 @   A9  process=load\n  A18                                  ferry.0 activate                     scheduled for    390.000 @   A9  process=load\n  A18                                  ferry.0 activate                     scheduled for    390.000 @   A9  process=load\n  A18                                  ferry.0 activate                     scheduled for    390.000 @   A9  process=load\n  A18                                  ferry.0 activate                     scheduled for    390.000 @   A9  process=load\n  A18                                  ferry.0 activate                     scheduled for    390.000 @   A9  process=load\n  A18                                  ferry.0 activate                     scheduled for    390.000 @   A9  process=load\n  A18                                  ferry.0 activate                     scheduled for    390.000 @   A9  process=load\n  A18                                  ferry.0 activate                     scheduled for    390.000 @   A9  process=load\n  A18                                  ferry.0 activate                     scheduled for    390.000 @   A9  process=load\n  A18                                  ferry.0 activate                     scheduled for    390.000 @   A9  process=load\n  A18                                  ferry.0 activate                     scheduled for    390.000 @   A9  process=load\n  A18                                  ferry.0 activate                     scheduled for    390.000 @   A9  process=load\n  A18                                  ferry.0 activate                     scheduled for    390.000 @   A9  process=load\n  A18                                  ferry.0 activate                     scheduled for    390.000 @   A9  process=load\n  A18                                  ferry.0 activate                     scheduled for    390.000 @   A9  process=load\n  A18                                  ferry.0 activate                     scheduled for    390.000 @   A9  process=load\n  A18                                  ferry.0 activate                     scheduled for    390.000 @   A9  process=load\n  A18                                  ferry.0 activate                     scheduled for    390.000 @   A9  process=load\n  A18                                  ferry.0 activate                     scheduled for    390.000 @   A9  process=load\n  A18                                  ferry.0 activate                     scheduled for    390.000 @   A9  process=load\n  A18                                  ferry.0 activate                     scheduled for    390.000 @   A9  process=load\n  A18                                  ferry.0 activate                     scheduled for    390.000 @   A9  process=load\n  A18                                  ferry.0 activate                     scheduled for    390.000 @   A9  process=load\n  A18                                  ferry.0 activate                     scheduled for    390.000 @   A9  process=load\n  A18                                  ferry.0 activate                     scheduled for    390.000 @   A9  process=load\n  A18                                  ferry.0 activate                     scheduled for    390.000 @   A9  process=load\n  A18                                  ferry.0 activate                     scheduled for    390.000 @   A9  process=load\n  A18                                  ferry.0 activate                     scheduled for    390.000 @   A9  process=load\n  A18                                  ferry.0 activate                     scheduled for    390.000 @   A9  process=load\n  A18                                  ferry.0 activate                     scheduled for    390.000 @   A9  process=load\n  A18                                  ferry.0 activate                     scheduled for    390.000 @   A9  process=load\n  A18                                  ferry.0 activate                     scheduled for    390.000 @   A9  process=load\n  A18                                  ferry.0 activate                     scheduled for    390.000 @   A9  process=load\n  A18                                  ferry.0 activate                     scheduled for    390.000 @   A9  process=load\n  A18                                  ferry.0 activate                     scheduled for    390.000 @   A9  process=load\n  A18                                  ferry.0 activate                     scheduled for    390.000 @   A9  process=load\n  A18                                  ferry.0 activate                     scheduled for    390.000 @   A9  process=load\n  A18                                  ferry.0 activate                     scheduled for    390.000 @   A9  process=load\n  A18                                  ferry.0 activate                     scheduled for    390.000 @   A9  process=load\n  A18                                  ferry.0 activate                     scheduled for    390.000 @   A9  process=load\n  A18                                  ferry.0 activate                     scheduled for    390.000 @   A9  process=load\n  A18                                  ferry.0 activate                     scheduled for    390.000 @   A9  process=load\n  A18                                  ferry.0 activate                     scheduled for    390.000 @   A9  process=load\n  A18                                  ferry.0 activate                     scheduled for    390.000 @   A9  process=load\n  A18                                  ferry.0 activate                     scheduled for    390.000 @   A9  process=load\n  A18                                  ferry.0 activate                     scheduled for    390.000 @   A9  process=load\n  A18                                  ferry.0 activate                     scheduled for    390.000 @   A9  process=load\n  A18                                  ferry.0 activate                     scheduled for    390.000 @   A9  process=load\n  A18                                  ferry.0 activate                     scheduled for    390.000 @   A9  process=load\n  A18                                  ferry.0 activate                     scheduled for    390.000 @   A9  process=load\n  A18                                  ferry.0 activate                     scheduled for    390.000 @   A9  process=load\n  A18                                  ferry.0 activate                     scheduled for    390.000 @   A9  process=load\n  A18                                  ferry.0 activate                     scheduled for    390.000 @   A9  process=load\n  A18                                  ferry.0 activate                     scheduled for    390.000 @   A9  process=load\n  A18                                  ferry.0 activate                     scheduled for    390.000 @   A9  process=load\n  A18                                  ferry.0 activate                     scheduled for    390.000 @   A9  process=load\n  A18                                  ferry.0 activate                     scheduled for    390.000 @   A9  process=load\n  A18                                  ferry.0 activate                     scheduled for    390.000 @   A9  process=load\n  A18                                  ferry.0 activate                     scheduled for    390.000 @   A9  process=load\n  A18                                  ferry.0 activate                     scheduled for    390.000 @   A9  process=load\n  A18                                  ferry.0 activate                     scheduled for    390.000 @   A9  process=load\n  A18                                  ferry.0 activate                     scheduled for    390.000 @   A9  process=load\n  A18                                  ferry.0 activate                     scheduled for    390.000 @   A9  process=load\n  A18                                  ferry.0 activate                     scheduled for    390.000 @   A9  process=load\n  A18                                  ferry.0 activate                     scheduled for    390.000 @   A9  process=load\n  A18                                  ferry.0 activate                     scheduled for    390.000 @   A9  process=load\n  A18                                  ferry.0 activate                     scheduled for    390.000 @   A9  process=load\n  A18                                  ferry.0 activate                     scheduled for    390.000 @   A9  process=load\n  A18                                  ferry.0 activate                     scheduled for    390.000 @   A9  process=load\n  A18                                  ferry.0 activate                     scheduled for    390.000 @   A9  process=load\n  A18                                  ferry.0 activate                     scheduled for    390.000 @   A9  process=load\n  A18                                  ferry.0 activate                     scheduled for    390.000 @   A9  process=load\n  A18                                  ferry.0 activate                     scheduled for    390.000 @   A9  process=load\n  A18                                  ferry.0 activate                     scheduled for    390.000 @   A9  process=load\n  A18                                  ferry.0 activate                     scheduled for    390.000 @   A9  process=load\n  A18                                  ferry.0 activate                     scheduled for    390.000 @   A9  process=load\n  A18                                  ferry.0 activate                     scheduled for    390.000 @   A9  process=load\n  A18                                  ferry.0 activate                     scheduled for    390.000 @   A9  process=load\n  A18                                  ferry.0 activate                     scheduled for    390.000 @   A9  process=load\n  A18                                  ferry.0 activate                     scheduled for    390.000 @   A9  process=load\n  A18                                  ferry.0 activate                     scheduled for    390.000 @   A9  process=load\n  A18                                  ferry.0 activate                     scheduled for    390.000 @   A9  process=load\n  A18                                  ferry.0 activate                     scheduled for    390.000 @   A9  process=load\n  A18                                  ferry.0 activate                     scheduled for    390.000 @   A9  process=load\n  A18                                  ferry.0 activate                     scheduled for    390.000 @   A9  process=load\n  A18                                  ferry.0 activate                     scheduled for    390.000 @   A9  process=load\n  A18                                  ferry.0 activate                     scheduled for    390.000 @   A9  process=load\n  A18                                  ferry.0 activate                     scheduled for    390.000 @   A9  process=load\n  A18                                  ferry.0 activate                     scheduled for    390.000 @   A9  process=load\n  A18                                  ferry.0 activate                     scheduled for    390.000 @   A9  process=load\n  A18                                  ferry.0 activate                     scheduled for    390.000 @   A9  process=load\n  A18                                  ferry.0 activate                     scheduled for    390.000 @   A9  process=load\n  A18                                  ferry.0 activate                     scheduled for    390.000 @   A9  process=load\n  A18                                  ferry.0 activate                     scheduled for    390.000 @   A9  process=load\n  A18                                  ferry.0 activate                     scheduled for    390.000 @   A9  process=load\n  A18                                  ferry.0 activate                     scheduled for    390.000 @   A9  process=load\n  A18                                  ferry.0 activate                     scheduled for    390.000 @   A9  process=load\n  A18                                  ferry.0 activate                     scheduled for    390.000 @   A9  process=load\n  A18                                  ferry.0 activate                     scheduled for    390.000 @   A9  process=load\n  A18                                  ferry.0 activate                     scheduled for    390.000 @   A9  process=load\n  A18                                  ferry.0 activate                     scheduled for    390.000 @   A9  process=load\n  A18                                  ferry.0 activate                     scheduled for    390.000 @   A9  process=load\n  A18                                  ferry.0 activate                     scheduled for    390.000 @   A9  process=load\n  A18                                  ferry.0 activate                     scheduled for    390.000 @   A9  process=load\n  A18                                  ferry.0 activate                     scheduled for    390.000 @   A9  process=load\n  A18                                  ferry.0 activate                     scheduled for    390.000 @   A9  process=load\n  A18                                  ferry.0 activate                     scheduled for    390.000 @   A9  process=load\n  A18                                  ferry.0 activate                     scheduled for    390.000 @   A9  process=load\n  A18                                  ferry.0 activate                     scheduled for    390.000 @   A9  process=load\n  A18                                  ferry.0 activate                     scheduled for    390.000 @   A9  process=load\n  A18                                  ferry.0 activate                     scheduled for    390.000 @   A9  process=load\n  A18                                  ferry.0 activate                     scheduled for    390.000 @   A9  process=load\n  A18                                  ferry.0 activate                     scheduled for    390.000 @   A9  process=load\n  A18                                  ferry.0 activate                     scheduled for    390.000 @   A9  process=load\n  A18                                  ferry.0 activate                     scheduled for    390.000 @   A9  process=load\n  A18                                  ferry.0 activate                     scheduled for    390.000 @   A9  process=load\n  A18                                  ferry.0 activate                     scheduled for    390.000 @   A9  process=load\n  A18                                  ferry.0 activate                     scheduled for    390.000 @   A9  process=load\n  A18                                  ferry.0 activate                     scheduled for    390.000 @   A9  process=load\n  A18                                  ferry.0 activate                     scheduled for    390.000 @   A9  process=load\n  A18                                  ferry.0 activate                     scheduled for    390.000 @   A9  process=load\n  A18                                  ferry.0 activate                     scheduled for    390.000 @   A9  process=load\n  A18                                  ferry.0 activate                     scheduled for    390.000 @   A9  process=load\n  A18                                  ferry.0 activate                     scheduled for    390.000 @   A9  process=load\n  A18                                  ferry.0 activate                     scheduled for    390.000 @   A9  process=load\n  A18                                  ferry.0 activate                     scheduled for    390.000 @   A9  process=load\n  A18                                  ferry.0 activate                     scheduled for    390.000 @   A9  process=load\n  A18                                  ferry.0 activate                     scheduled for    390.000 @   A9  process=load\n  A18                                  ferry.0 activate                     scheduled for    390.000 @   A9  process=load\n  A18                                  ferry.0 activate                     scheduled for    390.000 @   A9  process=load\n  A18                                  ferry.0 activate                     scheduled for    390.000 @   A9  process=load\n  A18                                  ferry.0 activate                     scheduled for    390.000 @   A9  process=load\n  A18                                  ferry.0 activate                     scheduled for    390.000 @   A9  process=load\n  A18                                  ferry.0 activate                     scheduled for    390.000 @   A9  process=load\n  A18                                  ferry.0 activate                     scheduled for    390.000 @   A9  process=load\n  A18                                  ferry.0 activate                     scheduled for    390.000 @   A9  process=load\n  A18                                  ferry.0 activate                     scheduled for    390.000 @   A9  process=load\n  A18                                  ferry.0 activate                     scheduled for    390.000 @   A9  process=load\n  A18                                  ferry.0 activate                     scheduled for    390.000 @   A9  process=load\n  A18                                  ferry.0 activate                     scheduled for    390.000 @   A9  process=load\n  A18                                  ferry.0 activate                     scheduled for    390.000 @   A9  process=load\n  A18                                  ferry.0 activate                     scheduled for    390.000 @   A9  process=load\n  A18                                  ferry.0 activate                     scheduled for    390.000 @   A9  process=load\n  A18                                  ferry.0 activate                     scheduled for    390.000 @   A9  process=load\n  A18                                  ferry.0 activate                     scheduled for    390.000 @   A9  process=load\n  A18                                  ferry.0 activate                     scheduled for    390.000 @   A9  process=load\n  A18                                  ferry.0 activate                     scheduled for    390.000 @   A9  process=load\n  A18                                  ferry.0 activate                     scheduled for    390.000 @   A9  process=load\n  A18                                  ferry.0 activate                     scheduled for    390.000 @   A9  process=load\n  A18                                  ferry.0 activate                     scheduled for    390.000 @   A9  process=load\n  A18                                  ferry.0 activate                     scheduled for    390.000 @   A9  process=load\n  A18                                  ferry.0 activate                     scheduled for    390.000 @   A9  process=load\n  A18                                  ferry.0 activate                     scheduled for    390.000 @   A9  process=load\n  A18                                  ferry.0 activate                     scheduled for    390.000 @   A9  process=load\n  A18                                  ferry.0 activate                     scheduled for    390.000 @   A9  process=load\n  A18                                  ferry.0 activate                     scheduled for    390.000 @   A9  process=load\n  A18                                  ferry.0 activate                     scheduled for    390.000 @   A9  process=load\n  A18                                  ferry.0 activate                     scheduled for    390.000 @   A9  process=load\n  A18                                  ferry.0 activate                     scheduled for    390.000 @   A9  process=load\n  A18                                  ferry.0 activate                     scheduled for    390.000 @   A9  process=load\n  A18                                  ferry.0 activate                     scheduled for    390.000 @   A9  process=load\n  A18                                  ferry.0 activate                     scheduled for    390.000 @   A9  process=load\n  A18                                  ferry.0 activate                     scheduled for    390.000 @   A9  process=load\n  A18                                  ferry.0 activate                     scheduled for    390.000 @   A9  process=load\n  A18                                  ferry.0 activate                     scheduled for    390.000 @   A9  process=load\n  A18                                  ferry.0 activate                     scheduled for    390.000 @   A9  process=load\n  A18                                  ferry.0 activate                     scheduled for    390.000 @   A9  process=load\n  A18                                  ferry.0 activate                     scheduled for    390.000 @   A9  process=load\n  A18                                  ferry.0 activate                     scheduled for    390.000 @   A9  process=load\n  A18                                  ferry.0 activate                     scheduled for    390.000 @   A9  process=load\n  A18                                  ferry.0 activate                     scheduled for    390.000 @   A9  process=load\n  A18                                  ferry.0 activate                     scheduled for    390.000 @   A9  process=load\n  A18                                  ferry.0 activate                     scheduled for    390.000 @   A9  process=load\n  A18                                  ferry.0 activate                     scheduled for    390.000 @   A9  process=load\n  A18                                  ferry.0 activate                     scheduled for    390.000 @   A9  process=load\n  A18                                  ferry.0 activate                     scheduled for    390.000 @   A9  process=load\n  A18                                  ferry.0 activate                     scheduled for    390.000 @   A9  process=load\n  A18                                  ferry.0 activate                     scheduled for    390.000 @   A9  process=load\n  A18                                  ferry.0 activate                     scheduled for    390.000 @   A9  process=load\n  A18                                  ferry.0 activate                     scheduled for    390.000 @   A9  process=load\n  A18                                  ferry.0 activate                     scheduled for    390.000 @   A9  process=load\n  A18                                  ferry.0 activate                     scheduled for    390.000 @   A9  process=load\n  A18                                  ferry.0 activate                     scheduled for    390.000 @   A9  process=load\n  A18                                  ferry.0 activate                     scheduled for    390.000 @   A9  process=load\n  A18                                  ferry.0 activate                     scheduled for    390.000 @   A9  process=load\n  A18                                  ferry.0 activate                     scheduled for    390.000 @   A9  process=load\n  A18                                  ferry.0 activate                     scheduled for    390.000 @   A9  process=load\n  A18                                  ferry.0 activate                     scheduled for    390.000 @   A9  process=load\n  A18                                  ferry.0 activate                     scheduled for    390.000 @   A9  process=load\n  A18                                  ferry.0 activate                     scheduled for    390.000 @   A9  process=load\n  A18                                  ferry.0 activate                     scheduled for    390.000 @   A9  process=load\n  A18                                  ferry.0 activate                     scheduled for    390.000 @   A9  process=load\n  A18                                  ferry.0 activate                     scheduled for    390.000 @   A9  process=load\n  A18                                  ferry.0 activate                     scheduled for    390.000 @   A9  process=load\n  A18                                  ferry.0 activate                     scheduled for    390.000 @   A9  process=load\n  A18                                  ferry.0 activate                     scheduled for    390.000 @   A9  process=load\n  A18                                  ferry.0 activate                     scheduled for    390.000 @   A9  process=load\n  A18                                  ferry.0 activate                     scheduled for    390.000 @   A9  process=load\n  A18                                  ferry.0 activate                     scheduled for    390.000 @   A9  process=load\n  A18                                  ferry.0 activate                     scheduled for    390.000 @   A9  process=load\n  A18                                  ferry.0 activate                     scheduled for    390.000 @   A9  process=load\n  A18                                  ferry.0 activate                     scheduled for    390.000 @   A9  process=load\n  A18                                  ferry.0 activate                     scheduled for    390.000 @   A9  process=load\n  A18                                  ferry.0 activate                     scheduled for    390.000 @   A9  process=load\n  A18                                  ferry.0 activate                     scheduled for    390.000 @   A9  process=load\n  A18                                  ferry.0 activate                     scheduled for    390.000 @   A9  process=load\n  A18                                  ferry.0 activate                     scheduled for    390.000 @   A9  process=load\n  A18                                  ferry.0 activate                     scheduled for    390.000 @   A9  process=load\n  A18                                  ferry.0 activate                     scheduled for    390.000 @   A9  process=load\n  A18                                  ferry.0 activate                     scheduled for    390.000 @   A9  process=load\n  A18                                  ferry.0 activate                     scheduled for    390.000 @   A9  process=load\n  A18                                  ferry.0 activate                     scheduled for    390.000 @   A9  process=load\n  A18                                  ferry.0 activate                     scheduled for    390.000 @   A9  process=load\n  A18                                  ferry.0 activate                     scheduled for    390.000 @   A9  process=load\n  A18                                  ferry.0 activate                     scheduled for    390.000 @   A9  process=load\n  A18                                  ferry.0 activate                     scheduled for    390.000 @   A9  process=load\n  A18                                  ferry.0 activate                     scheduled for    390.000 @   A9  process=load\n  A18                                  ferry.0 activate                     scheduled for    390.000 @   A9  process=load\n  A18                                  ferry.0 activate                     scheduled for    390.000 @   A9  process=load\n  A18                                  ferry.0 activate                     scheduled for    390.000 @   A9  process=load\n  A18                                  ferry.0 activate                     scheduled for    390.000 @   A9  process=load\n  A18                                  ferry.0 activate                     scheduled for    390.000 @   A9  process=load\n  A18                                  ferry.0 activate                     scheduled for    390.000 @   A9  process=load\n  A18                                  ferry.0 activate                     scheduled for    390.000 @   A9  process=load\n  A18                                  ferry.0 activate                     scheduled for    390.000 @   A9  process=load\n  A18                                  ferry.0 activate                     scheduled for    390.000 @   A9  process=load\n  A18                                  ferry.0 activate                     scheduled for    390.000 @   A9  process=load\n  A18                                  ferry.0 activate                     scheduled for    390.000 @   A9  process=load\n  A18                                  ferry.0 activate                     scheduled for    390.000 @   A9  process=load\n  A18                                  ferry.0 activate                     scheduled for    390.000 @   A9  process=load\n  A18                                  ferry.0 activate                     scheduled for    390.000 @   A9  process=load\n  A18                                  ferry.0 activate                     scheduled for    390.000 @   A9  process=load\n  A18                                  ferry.0 activate                     scheduled for    390.000 @   A9  process=load\n  A18                                  ferry.0 activate                     scheduled for    390.000 @   A9  process=load\n  A18                                  ferry.0 activate                     scheduled for    390.000 @   A9  process=load\n  A18                                  ferry.0 activate                     scheduled for    390.000 @   A9  process=load\n  A18                                  ferry.0 activate                     scheduled for    390.000 @   A9  process=load\n  A18                                  ferry.0 activate                     scheduled for    390.000 @   A9  process=load\n  A18                                  ferry.0 activate                     scheduled for    390.000 @   A9  process=load\n  A18                                  ferry.0 activate                     scheduled for    390.000 @   A9  process=load\n  A18                                  ferry.0 activate                     scheduled for    390.000 @   A9  process=load\n  A18                                  ferry.0 activate                     scheduled for    390.000 @   A9  process=load\n  A18                                  ferry.0 activate                     scheduled for    390.000 @   A9  process=load\n  A18                                  ferry.0 activate                     scheduled for    390.000 @   A9  process=load\n  A18                                  ferry.0 activate                     scheduled for    390.000 @   A9  process=load\n  A18                                  ferry.0 activate                     scheduled for    390.000 @   A9  process=load\n  A18                                  ferry.0 activate                     scheduled for    390.000 @   A9  process=load\n  A18                                  ferry.0 activate                     scheduled for    390.000 @   A9  process=load\n  A18                                  ferry.0 activate                     scheduled for    390.000 @   A9  process=load\n  A18                                  ferry.0 activate                     scheduled for    390.000 @   A9  process=load\n  A18                                  ferry.0 activate                     scheduled for    390.000 @   A9  process=load\n  A18                                  ferry.0 activate                     scheduled for    390.000 @   A9  process=load\n  A18                                  ferry.0 activate                     scheduled for    390.000 @   A9  process=load\n  A18                                  ferry.0 activate                     scheduled for    390.000 @   A9  process=load\n  A18                                  ferry.0 activate                     scheduled for    390.000 @   A9  process=load\n  A18                                  ferry.0 activate                     scheduled for    390.000 @   A9  process=load\n  A18                                  ferry.0 activate                     scheduled for    390.000 @   A9  process=load\n  A18                                  ferry.0 activate                     scheduled for    390.000 @   A9  process=load\n  A18                                  ferry.0 activate                     scheduled for    390.000 @   A9  process=load\n  A18                                  ferry.0 activate                     scheduled for    390.000 @   A9  process=load\n  A18                                  ferry.0 activate                     scheduled for    390.000 @   A9  process=load\n  A18                                  ferry.0 activate                     scheduled for    390.000 @   A9  process=load\n"
    },
    {
     "output_type": "error",
     "ename": "KeyboardInterrupt",
     "evalue": "",
     "traceback": [
      "\u001b[0;31m---------------------------------------------------------------------------\u001b[0m",
      "\u001b[0;31mKeyboardInterrupt\u001b[0m                         Traceback (most recent call last)",
      "\u001b[0;32m<ipython-input-73-40dbdcccee56>\u001b[0m in \u001b[0;36m<module>\u001b[0;34m\u001b[0m\n\u001b[1;32m     15\u001b[0m \u001b[0mCarGenerator\u001b[0m\u001b[0;34m(\u001b[0m\u001b[0mcartype\u001b[0m\u001b[0;34m=\u001b[0m\u001b[0;34m\"tourist\"\u001b[0m\u001b[0;34m,\u001b[0m \u001b[0mlocation\u001b[0m\u001b[0;34m=\u001b[0m\u001b[0;34m\"mainland\"\u001b[0m\u001b[0;34m)\u001b[0m\u001b[0;34m\u001b[0m\u001b[0;34m\u001b[0m\u001b[0m\n\u001b[1;32m     16\u001b[0m \u001b[0;34m\u001b[0m\u001b[0m\n\u001b[0;32m---> 17\u001b[0;31m \u001b[0menv\u001b[0m\u001b[0;34m.\u001b[0m\u001b[0mrun\u001b[0m\u001b[0;34m(\u001b[0m\u001b[0mduration\u001b[0m\u001b[0;34m=\u001b[0m\u001b[0mSIM_TIME\u001b[0m\u001b[0;34m)\u001b[0m\u001b[0;34m\u001b[0m\u001b[0;34m\u001b[0m\u001b[0m\n\u001b[0m\u001b[1;32m     18\u001b[0m \u001b[0mprint\u001b[0m\u001b[0;34m(\u001b[0m\u001b[0;34m)\u001b[0m\u001b[0;34m\u001b[0m\u001b[0;34m\u001b[0m\u001b[0m\n\u001b[1;32m     19\u001b[0m \u001b[0misland_line3\u001b[0m\u001b[0;34m.\u001b[0m\u001b[0mprint_statistics\u001b[0m\u001b[0;34m(\u001b[0m\u001b[0;34m)\u001b[0m\u001b[0;34m\u001b[0m\u001b[0;34m\u001b[0m\u001b[0m\n",
      "\u001b[0;32m/Applications/Anaconda/anaconda3/lib/python3.7/site-packages/salabim/salabim.py\u001b[0m in \u001b[0;36mrun\u001b[0;34m(self, duration, till, priority, urgent)\u001b[0m\n\u001b[1;32m   5675\u001b[0m                 \u001b[0mself\u001b[0m\u001b[0;34m.\u001b[0m\u001b[0mdo_simulate_and_animate\u001b[0m\u001b[0;34m(\u001b[0m\u001b[0;34m)\u001b[0m\u001b[0;34m\u001b[0m\u001b[0;34m\u001b[0m\u001b[0m\n\u001b[1;32m   5676\u001b[0m             \u001b[0;32melse\u001b[0m\u001b[0;34m:\u001b[0m\u001b[0;34m\u001b[0m\u001b[0;34m\u001b[0m\u001b[0m\n\u001b[0;32m-> 5677\u001b[0;31m                 \u001b[0mself\u001b[0m\u001b[0;34m.\u001b[0m\u001b[0mdo_simulate\u001b[0m\u001b[0;34m(\u001b[0m\u001b[0;34m)\u001b[0m\u001b[0;34m\u001b[0m\u001b[0;34m\u001b[0m\u001b[0m\n\u001b[0m\u001b[1;32m   5678\u001b[0m         \u001b[0;32mif\u001b[0m \u001b[0mself\u001b[0m\u001b[0;34m.\u001b[0m\u001b[0mstopped\u001b[0m\u001b[0;34m:\u001b[0m\u001b[0;34m\u001b[0m\u001b[0;34m\u001b[0m\u001b[0m\n\u001b[1;32m   5679\u001b[0m             \u001b[0mself\u001b[0m\u001b[0;34m.\u001b[0m\u001b[0mquit\u001b[0m\u001b[0;34m(\u001b[0m\u001b[0;34m)\u001b[0m\u001b[0;34m\u001b[0m\u001b[0;34m\u001b[0m\u001b[0m\n",
      "\u001b[0;32m/Applications/Anaconda/anaconda3/lib/python3.7/site-packages/salabim/salabim.py\u001b[0m in \u001b[0;36mdo_simulate\u001b[0;34m(self)\u001b[0m\n\u001b[1;32m   5683\u001b[0m             \u001b[0;32mpass\u001b[0m\u001b[0;34m\u001b[0m\u001b[0;34m\u001b[0m\u001b[0m\n\u001b[1;32m   5684\u001b[0m         \u001b[0;32mwhile\u001b[0m \u001b[0mself\u001b[0m\u001b[0;34m.\u001b[0m\u001b[0mrunning\u001b[0m \u001b[0;32mand\u001b[0m \u001b[0;32mnot\u001b[0m \u001b[0mself\u001b[0m\u001b[0;34m.\u001b[0m\u001b[0m_animate\u001b[0m\u001b[0;34m:\u001b[0m\u001b[0;34m\u001b[0m\u001b[0;34m\u001b[0m\u001b[0m\n\u001b[0;32m-> 5685\u001b[0;31m             \u001b[0mself\u001b[0m\u001b[0;34m.\u001b[0m\u001b[0mstep\u001b[0m\u001b[0;34m(\u001b[0m\u001b[0;34m)\u001b[0m\u001b[0;34m\u001b[0m\u001b[0;34m\u001b[0m\u001b[0m\n\u001b[0m\u001b[1;32m   5686\u001b[0m \u001b[0;34m\u001b[0m\u001b[0m\n\u001b[1;32m   5687\u001b[0m     \u001b[0;32mdef\u001b[0m \u001b[0mdo_simulate_and_animate\u001b[0m\u001b[0;34m(\u001b[0m\u001b[0mself\u001b[0m\u001b[0;34m)\u001b[0m\u001b[0;34m:\u001b[0m\u001b[0;34m\u001b[0m\u001b[0;34m\u001b[0m\u001b[0m\n",
      "\u001b[0;32m/Applications/Anaconda/anaconda3/lib/python3.7/site-packages/salabim/salabim.py\u001b[0m in \u001b[0;36mstep\u001b[0;34m(self)\u001b[0m\n\u001b[1;32m   4316\u001b[0m                     \u001b[0mself\u001b[0m\u001b[0;34m.\u001b[0m\u001b[0m_terminate\u001b[0m\u001b[0;34m(\u001b[0m\u001b[0mc\u001b[0m\u001b[0;34m)\u001b[0m\u001b[0;34m\u001b[0m\u001b[0;34m\u001b[0m\u001b[0m\n\u001b[1;32m   4317\u001b[0m             \u001b[0;32melse\u001b[0m\u001b[0;34m:\u001b[0m\u001b[0;34m\u001b[0m\u001b[0;34m\u001b[0m\u001b[0m\n\u001b[0;32m-> 4318\u001b[0;31m                 \u001b[0mc\u001b[0m\u001b[0;34m.\u001b[0m\u001b[0m_process\u001b[0m\u001b[0;34m(\u001b[0m\u001b[0;34m**\u001b[0m\u001b[0mc\u001b[0m\u001b[0;34m.\u001b[0m\u001b[0m_process_kwargs\u001b[0m\u001b[0;34m)\u001b[0m\u001b[0;34m\u001b[0m\u001b[0;34m\u001b[0m\u001b[0m\n\u001b[0m\u001b[1;32m   4319\u001b[0m                 \u001b[0mself\u001b[0m\u001b[0;34m.\u001b[0m\u001b[0m_terminate\u001b[0m\u001b[0;34m(\u001b[0m\u001b[0mc\u001b[0m\u001b[0;34m)\u001b[0m\u001b[0;34m\u001b[0m\u001b[0;34m\u001b[0m\u001b[0m\n\u001b[1;32m   4320\u001b[0m         \u001b[0;32mexcept\u001b[0m \u001b[0mException\u001b[0m\u001b[0;34m:\u001b[0m\u001b[0;34m\u001b[0m\u001b[0;34m\u001b[0m\u001b[0m\n",
      "\u001b[0;32m<ipython-input-71-cb7dbd2d3b25>\u001b[0m in \u001b[0;36mprocess\u001b[0;34m(self)\u001b[0m\n\u001b[1;32m     16\u001b[0m         \u001b[0;32mwhile\u001b[0m \u001b[0;32mTrue\u001b[0m\u001b[0;34m:\u001b[0m\u001b[0;34m\u001b[0m\u001b[0;34m\u001b[0m\u001b[0m\n\u001b[1;32m     17\u001b[0m             \u001b[0;31m# Load the ferry\u001b[0m\u001b[0;34m\u001b[0m\u001b[0;34m\u001b[0m\u001b[0;34m\u001b[0m\u001b[0m\n\u001b[0;32m---> 18\u001b[0;31m             \u001b[0mCanadianFerry\u001b[0m\u001b[0;34m.\u001b[0m\u001b[0mactivate\u001b[0m\u001b[0;34m(\u001b[0m\u001b[0mprocess\u001b[0m\u001b[0;34m=\u001b[0m\u001b[0;34m'load'\u001b[0m\u001b[0;34m)\u001b[0m\u001b[0;34m\u001b[0m\u001b[0;34m\u001b[0m\u001b[0m\n\u001b[0m\u001b[1;32m     19\u001b[0m \u001b[0;34m\u001b[0m\u001b[0m\n\u001b[1;32m     20\u001b[0m \u001b[0;34m\u001b[0m\u001b[0m\n",
      "\u001b[0;32m/Applications/Anaconda/anaconda3/lib/python3.7/site-packages/salabim/salabim.py\u001b[0m in \u001b[0;36mactivate\u001b[0;34m(self, at, delay, priority, urgent, process, keep_request, keep_wait, mode, **kwargs)\u001b[0m\n\u001b[1;32m  11429\u001b[0m             \u001b[0mscheduled_time\u001b[0m \u001b[0;34m=\u001b[0m \u001b[0mat\u001b[0m \u001b[0;34m+\u001b[0m \u001b[0mself\u001b[0m\u001b[0;34m.\u001b[0m\u001b[0menv\u001b[0m\u001b[0;34m.\u001b[0m\u001b[0m_offset\u001b[0m \u001b[0;34m+\u001b[0m \u001b[0mdelay\u001b[0m\u001b[0;34m\u001b[0m\u001b[0;34m\u001b[0m\u001b[0m\n\u001b[1;32m  11430\u001b[0m \u001b[0;34m\u001b[0m\u001b[0m\n\u001b[0;32m> 11431\u001b[0;31m         \u001b[0mself\u001b[0m\u001b[0;34m.\u001b[0m\u001b[0m_reschedule\u001b[0m\u001b[0;34m(\u001b[0m\u001b[0mscheduled_time\u001b[0m\u001b[0;34m,\u001b[0m \u001b[0mpriority\u001b[0m\u001b[0;34m,\u001b[0m \u001b[0murgent\u001b[0m\u001b[0;34m,\u001b[0m \u001b[0;34m\"activate\"\u001b[0m\u001b[0;34m,\u001b[0m \u001b[0mextra\u001b[0m\u001b[0;34m=\u001b[0m\u001b[0mextra\u001b[0m\u001b[0;34m)\u001b[0m\u001b[0;34m\u001b[0m\u001b[0;34m\u001b[0m\u001b[0m\n\u001b[0m\u001b[1;32m  11432\u001b[0m \u001b[0;34m\u001b[0m\u001b[0m\n\u001b[1;32m  11433\u001b[0m     \u001b[0;32mdef\u001b[0m \u001b[0mhold\u001b[0m\u001b[0;34m(\u001b[0m\u001b[0mself\u001b[0m\u001b[0;34m,\u001b[0m \u001b[0mduration\u001b[0m\u001b[0;34m=\u001b[0m\u001b[0;32mNone\u001b[0m\u001b[0;34m,\u001b[0m \u001b[0mtill\u001b[0m\u001b[0;34m=\u001b[0m\u001b[0;32mNone\u001b[0m\u001b[0;34m,\u001b[0m \u001b[0mpriority\u001b[0m\u001b[0;34m=\u001b[0m\u001b[0;36m0\u001b[0m\u001b[0;34m,\u001b[0m \u001b[0murgent\u001b[0m\u001b[0;34m=\u001b[0m\u001b[0;32mFalse\u001b[0m\u001b[0;34m,\u001b[0m \u001b[0mmode\u001b[0m\u001b[0;34m=\u001b[0m\u001b[0;32mNone\u001b[0m\u001b[0;34m)\u001b[0m\u001b[0;34m:\u001b[0m\u001b[0;34m\u001b[0m\u001b[0;34m\u001b[0m\u001b[0m\n",
      "\u001b[0;32m/Applications/Anaconda/anaconda3/lib/python3.7/site-packages/salabim/salabim.py\u001b[0m in \u001b[0;36m_reschedule\u001b[0;34m(self, scheduled_time, priority, urgent, caller, extra, s0)\u001b[0m\n\u001b[1;32m  11293\u001b[0m                     \u001b[0mextra\u001b[0m\u001b[0;34m,\u001b[0m\u001b[0;34m\u001b[0m\u001b[0;34m\u001b[0m\u001b[0m\n\u001b[1;32m  11294\u001b[0m                 ),\n\u001b[0;32m> 11295\u001b[0;31m                 \u001b[0ms0\u001b[0m\u001b[0;34m=\u001b[0m\u001b[0ms0\u001b[0m\u001b[0;34m,\u001b[0m\u001b[0;34m\u001b[0m\u001b[0;34m\u001b[0m\u001b[0m\n\u001b[0m\u001b[1;32m  11296\u001b[0m             )\n\u001b[1;32m  11297\u001b[0m \u001b[0;34m\u001b[0m\u001b[0m\n",
      "\u001b[0;32m/Applications/Anaconda/anaconda3/lib/python3.7/site-packages/salabim/salabim.py\u001b[0m in \u001b[0;36mprint_trace\u001b[0;34m(self, s1, s2, s3, s4, s0, _optional)\u001b[0m\n\u001b[1;32m   6880\u001b[0m                         \u001b[0;31m#                                break\u001b[0m\u001b[0;34m\u001b[0m\u001b[0;34m\u001b[0m\u001b[0;34m\u001b[0m\u001b[0m\n\u001b[1;32m   6881\u001b[0m \u001b[0;34m\u001b[0m\u001b[0m\n\u001b[0;32m-> 6882\u001b[0;31m                         \u001b[0ms0\u001b[0m \u001b[0;34m=\u001b[0m \u001b[0mself\u001b[0m\u001b[0;34m.\u001b[0m\u001b[0m_frame_to_lineno\u001b[0m\u001b[0;34m(\u001b[0m\u001b[0m_get_caller_frame\u001b[0m\u001b[0;34m(\u001b[0m\u001b[0;34m)\u001b[0m\u001b[0;34m)\u001b[0m\u001b[0;34m\u001b[0m\u001b[0;34m\u001b[0m\u001b[0m\n\u001b[0m\u001b[1;32m   6883\u001b[0m                 \u001b[0mself\u001b[0m\u001b[0;34m.\u001b[0m\u001b[0mlast_s0\u001b[0m \u001b[0;34m=\u001b[0m \u001b[0ms0\u001b[0m\u001b[0;34m\u001b[0m\u001b[0;34m\u001b[0m\u001b[0m\n\u001b[1;32m   6884\u001b[0m                 \u001b[0mline\u001b[0m \u001b[0;34m=\u001b[0m \u001b[0mpad\u001b[0m\u001b[0;34m(\u001b[0m\u001b[0ms0\u001b[0m\u001b[0;34m,\u001b[0m \u001b[0;36m7\u001b[0m\u001b[0;34m)\u001b[0m \u001b[0;34m+\u001b[0m \u001b[0mpad\u001b[0m\u001b[0;34m(\u001b[0m\u001b[0ms1\u001b[0m\u001b[0;34m,\u001b[0m \u001b[0;36m10\u001b[0m\u001b[0;34m)\u001b[0m \u001b[0;34m+\u001b[0m \u001b[0;34m\" \"\u001b[0m \u001b[0;34m+\u001b[0m \u001b[0mpad\u001b[0m\u001b[0;34m(\u001b[0m\u001b[0ms2\u001b[0m\u001b[0;34m,\u001b[0m \u001b[0;36m20\u001b[0m\u001b[0;34m)\u001b[0m \u001b[0;34m+\u001b[0m \u001b[0;34m\" \"\u001b[0m \u001b[0;34m+\u001b[0m \u001b[0mpad\u001b[0m\u001b[0;34m(\u001b[0m\u001b[0ms3\u001b[0m\u001b[0;34m,\u001b[0m \u001b[0mmax\u001b[0m\u001b[0;34m(\u001b[0m\u001b[0mlen\u001b[0m\u001b[0;34m(\u001b[0m\u001b[0ms3\u001b[0m\u001b[0;34m)\u001b[0m\u001b[0;34m,\u001b[0m \u001b[0;36m36\u001b[0m\u001b[0;34m)\u001b[0m\u001b[0;34m)\u001b[0m \u001b[0;34m+\u001b[0m \u001b[0;34m\" \"\u001b[0m \u001b[0;34m+\u001b[0m \u001b[0ms4\u001b[0m\u001b[0;34m.\u001b[0m\u001b[0mstrip\u001b[0m\u001b[0;34m(\u001b[0m\u001b[0;34m)\u001b[0m\u001b[0;34m\u001b[0m\u001b[0;34m\u001b[0m\u001b[0m\n",
      "\u001b[0;32m/Applications/Anaconda/anaconda3/lib/python3.7/site-packages/salabim/salabim.py\u001b[0m in \u001b[0;36m_get_caller_frame\u001b[0;34m()\u001b[0m\n\u001b[1;32m  17155\u001b[0m     \u001b[0mstack\u001b[0m \u001b[0;34m=\u001b[0m \u001b[0minspect\u001b[0m\u001b[0;34m.\u001b[0m\u001b[0mstack\u001b[0m\u001b[0;34m(\u001b[0m\u001b[0;34m)\u001b[0m\u001b[0;34m\u001b[0m\u001b[0;34m\u001b[0m\u001b[0m\n\u001b[1;32m  17156\u001b[0m     \u001b[0mfilename0\u001b[0m \u001b[0;34m=\u001b[0m \u001b[0minspect\u001b[0m\u001b[0;34m.\u001b[0m\u001b[0mgetframeinfo\u001b[0m\u001b[0;34m(\u001b[0m\u001b[0mstack\u001b[0m\u001b[0;34m[\u001b[0m\u001b[0;36m0\u001b[0m\u001b[0;34m]\u001b[0m\u001b[0;34m[\u001b[0m\u001b[0;36m0\u001b[0m\u001b[0;34m]\u001b[0m\u001b[0;34m)\u001b[0m\u001b[0;34m.\u001b[0m\u001b[0mfilename\u001b[0m\u001b[0;34m\u001b[0m\u001b[0;34m\u001b[0m\u001b[0m\n\u001b[0;32m> 17157\u001b[0;31m     \u001b[0;32mfor\u001b[0m \u001b[0mi\u001b[0m \u001b[0;32min\u001b[0m \u001b[0mrange\u001b[0m\u001b[0;34m(\u001b[0m\u001b[0mlen\u001b[0m\u001b[0;34m(\u001b[0m\u001b[0minspect\u001b[0m\u001b[0;34m.\u001b[0m\u001b[0mstack\u001b[0m\u001b[0;34m(\u001b[0m\u001b[0;34m)\u001b[0m\u001b[0;34m)\u001b[0m\u001b[0;34m)\u001b[0m\u001b[0;34m:\u001b[0m\u001b[0;34m\u001b[0m\u001b[0;34m\u001b[0m\u001b[0m\n\u001b[0m\u001b[1;32m  17158\u001b[0m         \u001b[0mframe\u001b[0m \u001b[0;34m=\u001b[0m \u001b[0mstack\u001b[0m\u001b[0;34m[\u001b[0m\u001b[0mi\u001b[0m\u001b[0;34m]\u001b[0m\u001b[0;34m[\u001b[0m\u001b[0;36m0\u001b[0m\u001b[0;34m]\u001b[0m\u001b[0;34m\u001b[0m\u001b[0;34m\u001b[0m\u001b[0m\n\u001b[1;32m  17159\u001b[0m         \u001b[0;32mif\u001b[0m \u001b[0mfilename0\u001b[0m \u001b[0;34m!=\u001b[0m \u001b[0minspect\u001b[0m\u001b[0;34m.\u001b[0m\u001b[0mgetframeinfo\u001b[0m\u001b[0;34m(\u001b[0m\u001b[0mframe\u001b[0m\u001b[0;34m)\u001b[0m\u001b[0;34m.\u001b[0m\u001b[0mfilename\u001b[0m\u001b[0;34m:\u001b[0m\u001b[0;34m\u001b[0m\u001b[0;34m\u001b[0m\u001b[0m\n",
      "\u001b[0;32m/Applications/Anaconda/anaconda3/lib/python3.7/inspect.py\u001b[0m in \u001b[0;36mstack\u001b[0;34m(context)\u001b[0m\n\u001b[1;32m   1511\u001b[0m \u001b[0;32mdef\u001b[0m \u001b[0mstack\u001b[0m\u001b[0;34m(\u001b[0m\u001b[0mcontext\u001b[0m\u001b[0;34m=\u001b[0m\u001b[0;36m1\u001b[0m\u001b[0;34m)\u001b[0m\u001b[0;34m:\u001b[0m\u001b[0;34m\u001b[0m\u001b[0;34m\u001b[0m\u001b[0m\n\u001b[1;32m   1512\u001b[0m     \u001b[0;34m\"\"\"Return a list of records for the stack above the caller's frame.\"\"\"\u001b[0m\u001b[0;34m\u001b[0m\u001b[0;34m\u001b[0m\u001b[0m\n\u001b[0;32m-> 1513\u001b[0;31m     \u001b[0;32mreturn\u001b[0m \u001b[0mgetouterframes\u001b[0m\u001b[0;34m(\u001b[0m\u001b[0msys\u001b[0m\u001b[0;34m.\u001b[0m\u001b[0m_getframe\u001b[0m\u001b[0;34m(\u001b[0m\u001b[0;36m1\u001b[0m\u001b[0;34m)\u001b[0m\u001b[0;34m,\u001b[0m \u001b[0mcontext\u001b[0m\u001b[0;34m)\u001b[0m\u001b[0;34m\u001b[0m\u001b[0;34m\u001b[0m\u001b[0m\n\u001b[0m\u001b[1;32m   1514\u001b[0m \u001b[0;34m\u001b[0m\u001b[0m\n\u001b[1;32m   1515\u001b[0m \u001b[0;32mdef\u001b[0m \u001b[0mtrace\u001b[0m\u001b[0;34m(\u001b[0m\u001b[0mcontext\u001b[0m\u001b[0;34m=\u001b[0m\u001b[0;36m1\u001b[0m\u001b[0;34m)\u001b[0m\u001b[0;34m:\u001b[0m\u001b[0;34m\u001b[0m\u001b[0;34m\u001b[0m\u001b[0m\n",
      "\u001b[0;32m/Applications/Anaconda/anaconda3/lib/python3.7/inspect.py\u001b[0m in \u001b[0;36mgetouterframes\u001b[0;34m(frame, context)\u001b[0m\n\u001b[1;32m   1488\u001b[0m     \u001b[0mframelist\u001b[0m \u001b[0;34m=\u001b[0m \u001b[0;34m[\u001b[0m\u001b[0;34m]\u001b[0m\u001b[0;34m\u001b[0m\u001b[0;34m\u001b[0m\u001b[0m\n\u001b[1;32m   1489\u001b[0m     \u001b[0;32mwhile\u001b[0m \u001b[0mframe\u001b[0m\u001b[0;34m:\u001b[0m\u001b[0;34m\u001b[0m\u001b[0;34m\u001b[0m\u001b[0m\n\u001b[0;32m-> 1490\u001b[0;31m         \u001b[0mframeinfo\u001b[0m \u001b[0;34m=\u001b[0m \u001b[0;34m(\u001b[0m\u001b[0mframe\u001b[0m\u001b[0;34m,\u001b[0m\u001b[0;34m)\u001b[0m \u001b[0;34m+\u001b[0m \u001b[0mgetframeinfo\u001b[0m\u001b[0;34m(\u001b[0m\u001b[0mframe\u001b[0m\u001b[0;34m,\u001b[0m \u001b[0mcontext\u001b[0m\u001b[0;34m)\u001b[0m\u001b[0;34m\u001b[0m\u001b[0;34m\u001b[0m\u001b[0m\n\u001b[0m\u001b[1;32m   1491\u001b[0m         \u001b[0mframelist\u001b[0m\u001b[0;34m.\u001b[0m\u001b[0mappend\u001b[0m\u001b[0;34m(\u001b[0m\u001b[0mFrameInfo\u001b[0m\u001b[0;34m(\u001b[0m\u001b[0;34m*\u001b[0m\u001b[0mframeinfo\u001b[0m\u001b[0;34m)\u001b[0m\u001b[0;34m)\u001b[0m\u001b[0;34m\u001b[0m\u001b[0;34m\u001b[0m\u001b[0m\n\u001b[1;32m   1492\u001b[0m         \u001b[0mframe\u001b[0m \u001b[0;34m=\u001b[0m \u001b[0mframe\u001b[0m\u001b[0;34m.\u001b[0m\u001b[0mf_back\u001b[0m\u001b[0;34m\u001b[0m\u001b[0;34m\u001b[0m\u001b[0m\n",
      "\u001b[0;32m/Applications/Anaconda/anaconda3/lib/python3.7/inspect.py\u001b[0m in \u001b[0;36mgetframeinfo\u001b[0;34m(frame, context)\u001b[0m\n\u001b[1;32m   1458\u001b[0m         \u001b[0;32mraise\u001b[0m \u001b[0mTypeError\u001b[0m\u001b[0;34m(\u001b[0m\u001b[0;34m'{!r} is not a frame or traceback object'\u001b[0m\u001b[0;34m.\u001b[0m\u001b[0mformat\u001b[0m\u001b[0;34m(\u001b[0m\u001b[0mframe\u001b[0m\u001b[0;34m)\u001b[0m\u001b[0;34m)\u001b[0m\u001b[0;34m\u001b[0m\u001b[0;34m\u001b[0m\u001b[0m\n\u001b[1;32m   1459\u001b[0m \u001b[0;34m\u001b[0m\u001b[0m\n\u001b[0;32m-> 1460\u001b[0;31m     \u001b[0mfilename\u001b[0m \u001b[0;34m=\u001b[0m \u001b[0mgetsourcefile\u001b[0m\u001b[0;34m(\u001b[0m\u001b[0mframe\u001b[0m\u001b[0;34m)\u001b[0m \u001b[0;32mor\u001b[0m \u001b[0mgetfile\u001b[0m\u001b[0;34m(\u001b[0m\u001b[0mframe\u001b[0m\u001b[0;34m)\u001b[0m\u001b[0;34m\u001b[0m\u001b[0;34m\u001b[0m\u001b[0m\n\u001b[0m\u001b[1;32m   1461\u001b[0m     \u001b[0;32mif\u001b[0m \u001b[0mcontext\u001b[0m \u001b[0;34m>\u001b[0m \u001b[0;36m0\u001b[0m\u001b[0;34m:\u001b[0m\u001b[0;34m\u001b[0m\u001b[0;34m\u001b[0m\u001b[0m\n\u001b[1;32m   1462\u001b[0m         \u001b[0mstart\u001b[0m \u001b[0;34m=\u001b[0m \u001b[0mlineno\u001b[0m \u001b[0;34m-\u001b[0m \u001b[0;36m1\u001b[0m \u001b[0;34m-\u001b[0m \u001b[0mcontext\u001b[0m\u001b[0;34m//\u001b[0m\u001b[0;36m2\u001b[0m\u001b[0;34m\u001b[0m\u001b[0;34m\u001b[0m\u001b[0m\n",
      "\u001b[0;32m/Applications/Anaconda/anaconda3/lib/python3.7/inspect.py\u001b[0m in \u001b[0;36mgetsourcefile\u001b[0;34m(object)\u001b[0m\n\u001b[1;32m    685\u001b[0m     \u001b[0mall_bytecode_suffixes\u001b[0m \u001b[0;34m=\u001b[0m \u001b[0mimportlib\u001b[0m\u001b[0;34m.\u001b[0m\u001b[0mmachinery\u001b[0m\u001b[0;34m.\u001b[0m\u001b[0mDEBUG_BYTECODE_SUFFIXES\u001b[0m\u001b[0;34m[\u001b[0m\u001b[0;34m:\u001b[0m\u001b[0;34m]\u001b[0m\u001b[0;34m\u001b[0m\u001b[0;34m\u001b[0m\u001b[0m\n\u001b[1;32m    686\u001b[0m     \u001b[0mall_bytecode_suffixes\u001b[0m \u001b[0;34m+=\u001b[0m \u001b[0mimportlib\u001b[0m\u001b[0;34m.\u001b[0m\u001b[0mmachinery\u001b[0m\u001b[0;34m.\u001b[0m\u001b[0mOPTIMIZED_BYTECODE_SUFFIXES\u001b[0m\u001b[0;34m[\u001b[0m\u001b[0;34m:\u001b[0m\u001b[0;34m]\u001b[0m\u001b[0;34m\u001b[0m\u001b[0;34m\u001b[0m\u001b[0m\n\u001b[0;32m--> 687\u001b[0;31m     \u001b[0;32mif\u001b[0m \u001b[0many\u001b[0m\u001b[0;34m(\u001b[0m\u001b[0mfilename\u001b[0m\u001b[0;34m.\u001b[0m\u001b[0mendswith\u001b[0m\u001b[0;34m(\u001b[0m\u001b[0ms\u001b[0m\u001b[0;34m)\u001b[0m \u001b[0;32mfor\u001b[0m \u001b[0ms\u001b[0m \u001b[0;32min\u001b[0m \u001b[0mall_bytecode_suffixes\u001b[0m\u001b[0;34m)\u001b[0m\u001b[0;34m:\u001b[0m\u001b[0;34m\u001b[0m\u001b[0;34m\u001b[0m\u001b[0m\n\u001b[0m\u001b[1;32m    688\u001b[0m         filename = (os.path.splitext(filename)[0] +\n\u001b[1;32m    689\u001b[0m                     importlib.machinery.SOURCE_SUFFIXES[0])\n",
      "\u001b[0;31mKeyboardInterrupt\u001b[0m: "
     ]
    }
   ],
   "source": [
    "\n",
    "# Create the Environment\n",
    "env = sim.Environment(time_unit='minutes', trace= True)\n",
    "env.modelname(\"Canadian Ferries Simulation\")\n",
    "\n",
    "# Create a ferry at the beginning of the simulation\n",
    "CanadianFerry = Ferry(capacity = NUMBER_OF_CARS.sample(), carsonferry = 0, ferryrides = 0, location = \"mainland\")\n",
    "\n",
    "# Activate the Ferry operators on 6:30\n",
    "FerryOperator(at=6.5*60)\n",
    "\n",
    "# Initiate the Car Generators\n",
    "CarGenerator(cartype=\"employee\", location=\"island\")\n",
    "CarGenerator(cartype=\"employee\", location=\"mainland\")\n",
    "CarGenerator(cartype=\"tourist\", location=\"island\")\n",
    "CarGenerator(cartype=\"tourist\", location=\"mainland\")\n",
    "\n",
    "env.run(duration=SIM_TIME)\n",
    "print()\n",
    "island_line3.print_statistics()"
   ]
  },
  {
   "cell_type": "code",
   "execution_count": 68,
   "metadata": {
    "tags": []
   },
   "outputs": [
    {
     "output_type": "stream",
     "name": "stdout",
     "text": "Statistics of island_line1 at      1440    \n                                                                     all    excl.zero         zero\n-------------------------------------------- -------------- ------------ ------------ ------------\nLength of island_line1                       no data\n\nLength of stay in island_line1               no data\n"
    }
   ],
   "source": [
    "island_line1.print_statistics()"
   ]
  },
  {
   "cell_type": "code",
   "execution_count": null,
   "metadata": {},
   "outputs": [],
   "source": []
  }
 ]
}